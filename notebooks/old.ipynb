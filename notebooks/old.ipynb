{
 "cells": [
  {
   "cell_type": "code",
   "execution_count": 1,
   "metadata": {
    "collapsed": true,
    "deletable": true,
    "editable": true
   },
   "outputs": [
    {
     "name": "stderr",
     "output_type": "stream",
     "text": [
      "Using TensorFlow backend.\n"
     ]
    }
   ],
   "source": [
    "import numpy as np\n",
    "import pandas as pd\n",
    "import matplotlib.pyplot as plt\n",
    "from sklearn.model_selection import train_test_split\n",
    "from sklearn.neighbors import KNeighborsClassifier\n",
    "from sklearn.linear_model import LogisticRegression\n",
    "from sklearn.ensemble import RandomForestClassifier, VotingClassifier\n",
    "from sklearn.neural_network import MLPClassifier\n",
    "from sklearn.svm import LinearSVC, SVC\n",
    "from sklearn.naive_bayes import GaussianNB\n",
    "from sklearn.model_selection import GridSearchCV\n",
    "from sklearn.metrics import f1_score, confusion_matrix, accuracy_score, roc_curve\n",
    "from sklearn.utils.class_weight import compute_sample_weight\n",
    "from keras import Sequential\n",
    "from keras.layers import Dense, Dropout"
   ]
  },
  {
   "cell_type": "code",
   "execution_count": 2,
   "metadata": {
    "collapsed": true,
    "deletable": true,
    "editable": true
   },
   "outputs": [],
   "source": [
    "VEC_SIZE = 300\n",
    "SEED = 31415\n",
    "np.random.seed(SEED)"
   ]
  },
  {
   "cell_type": "code",
   "execution_count": 3,
   "metadata": {
    "collapsed": true,
    "deletable": true,
    "editable": true
   },
   "outputs": [],
   "source": [
    "def run_fasttext(name, words):\n",
    "    with open('{}_query.txt'.format(name), 'w') as f:\n",
    "        for word in words:\n",
    "            f.write(word.lower() + '\\n')\n",
    "\n",
    "    !fastText/fasttext print-word-vectors cc.ru.300.bin < {name}_query.txt > {name}_answer.txt\n",
    "\n",
    "\n",
    "def convert_to_vectors(name, words):\n",
    "    data = np.zeros((len(words), VEC_SIZE))\n",
    "    with open('{}_answer.txt'.format(name)) as f:\n",
    "        for i, line in enumerate(f):\n",
    "            data[i, :] = np.array(line.split()[-VEC_SIZE:], dtype=np.float64)\n",
    "    return data"
   ]
  },
  {
   "cell_type": "code",
   "execution_count": 5,
   "metadata": {
    "collapsed": false,
    "deletable": true,
    "editable": true
   },
   "outputs": [],
   "source": [
    "df = pd.read_csv('training_big.new.csv')\n",
    "words = df['word'].values\n",
    "labels = df['label'].values"
   ]
  },
  {
   "cell_type": "code",
   "execution_count": 6,
   "metadata": {
    "collapsed": true,
    "deletable": true,
    "editable": true
   },
   "outputs": [],
   "source": [
    "indices = np.arange(len(words))\n",
    "indices = np.random.RandomState(SEED).permutation(indices)\n",
    "x_train = [words[i] for i in indices]\n",
    "y_train = labels[indices]"
   ]
  },
  {
   "cell_type": "code",
   "execution_count": 7,
   "metadata": {
    "collapsed": false,
    "deletable": true,
    "editable": true
   },
   "outputs": [
    {
     "name": "stdin",
     "output_type": "stream",
     "text": [
      "Run fasttext?  Y\n"
     ]
    }
   ],
   "source": [
    "if input('Run fasttext? ') == 'Y':\n",
    "    run_fasttext('train', x_train)"
   ]
  },
  {
   "cell_type": "code",
   "execution_count": 9,
   "metadata": {
    "collapsed": false,
    "deletable": true,
    "editable": true
   },
   "outputs": [],
   "source": [
    "train_gened = convert_to_vectors('train', x_train)"
   ]
  },
  {
   "cell_type": "code",
   "execution_count": 10,
   "metadata": {
    "collapsed": false,
    "deletable": true,
    "editable": true
   },
   "outputs": [
    {
     "data": {
      "text/plain": [
       "<keras.callbacks.History at 0x7f3cd280ba90>"
      ]
     },
     "execution_count": 10,
     "metadata": {},
     "output_type": "execute_result"
    }
   ],
   "source": [
    "model = Sequential()\n",
    "model.add(Dense(30, activation='relu', input_shape=train_gened.shape[1:]))\n",
    "model.add(Dropout(0.5))\n",
    "model.add(Dense(1, activation='sigmoid'))\n",
    "\n",
    "model.compile(loss='binary_crossentropy',\n",
    "              optimizer='adam',\n",
    "              metrics=['acc'])\n",
    "\n",
    "model.fit(train_gened, y_train, epochs=20, verbose=0,\n",
    "          sample_weight=compute_sample_weight('balanced', y_train))"
   ]
  },
  {
   "cell_type": "code",
   "execution_count": 11,
   "metadata": {
    "collapsed": false,
    "deletable": true,
    "editable": true
   },
   "outputs": [],
   "source": [
    "model.save('model')"
   ]
  },
  {
   "cell_type": "code",
   "execution_count": 12,
   "metadata": {
    "collapsed": true,
    "deletable": true,
    "editable": true
   },
   "outputs": [],
   "source": [
    "df = pd.read_csv('testing.csv')\n",
    "words = df['word'].values\n",
    "labels = df['label'].values"
   ]
  },
  {
   "cell_type": "code",
   "execution_count": 13,
   "metadata": {
    "collapsed": true,
    "deletable": true,
    "editable": true
   },
   "outputs": [],
   "source": [
    "run_fasttext('test', words)\n",
    "test_data = convert_to_vectors('test', words)"
   ]
  },
  {
   "cell_type": "code",
   "execution_count": 14,
   "metadata": {
    "collapsed": false,
    "deletable": true,
    "editable": true
   },
   "outputs": [
    {
     "name": "stdout",
     "output_type": "stream",
     "text": [
      "f1: 0.8489393065436134\n",
      "accuracy: 0.9821984230083683\n"
     ]
    },
    {
     "data": {
      "text/plain": [
       "array([[123424,   2299],\n",
       "       [    58,   6623]])"
      ]
     },
     "execution_count": 14,
     "metadata": {},
     "output_type": "execute_result"
    }
   ],
   "source": [
    "predictions_train = model.predict_classes(train_gened)\n",
    "print('f1:', f1_score(y_train, predictions_train))\n",
    "print('accuracy:', accuracy_score(y_train, predictions_train))\n",
    "confusion_matrix(y_train, predictions_train)"
   ]
  },
  {
   "cell_type": "code",
   "execution_count": 15,
   "metadata": {
    "collapsed": false,
    "deletable": true,
    "editable": true
   },
   "outputs": [
    {
     "name": "stdout",
     "output_type": "stream",
     "text": [
      "f1: 0.8461538461538461\n",
      "accuracy: 0.84\n"
     ]
    },
    {
     "data": {
      "text/plain": [
       "array([[40, 12],\n",
       "       [ 4, 44]])"
      ]
     },
     "execution_count": 15,
     "metadata": {},
     "output_type": "execute_result"
    }
   ],
   "source": [
    "predictions_test = model.predict_classes(test_data)\n",
    "print('f1:', f1_score(labels, predictions_test))\n",
    "print('accuracy:', accuracy_score(labels, predictions_test))\n",
    "confusion_matrix(labels, predictions_test)"
   ]
  },
  {
   "cell_type": "code",
   "execution_count": 16,
   "metadata": {
    "collapsed": false,
    "deletable": true,
    "editable": true
   },
   "outputs": [
    {
     "data": {
      "text/plain": [
       "<matplotlib.legend.Legend at 0x7f3cd20a1438>"
      ]
     },
     "execution_count": 16,
     "metadata": {},
     "output_type": "execute_result"
    },
    {
     "data": {
      "image/png": "[encoded data removed]",
      "text/plain": [
       "<Figure size 432x288 with 1 Axes>"
      ]
     },
     "metadata": {
      "needs_background": "light"
     },
     "output_type": "display_data"
    }
   ],
   "source": [
    "fpr, tpr, thresholds = roc_curve(labels, model.predict(test_data),\n",
    "                                 sample_weight=compute_sample_weight('balanced', labels))\n",
    "plt.plot(fpr, tpr, label='test')\n",
    "fpr, tpr, thresholds = roc_curve(y_train, model.predict(train_gened),\n",
    "                                 sample_weight=compute_sample_weight('balanced', y_train))\n",
    "plt.plot(fpr, tpr, label='train')\n",
    "plt.xlabel('FPR')\n",
    "plt.ylabel('TPR')\n",
    "plt.legend()"
   ]
  },
  {
   "cell_type": "code",
   "execution_count": 17,
   "metadata": {
    "collapsed": true,
    "deletable": true,
    "editable": true
   },
   "outputs": [],
   "source": [
    "import re\n",
    "\n",
    "lines = []\n",
    "line_labels = []\n",
    "with open('validation.txt') as f:\n",
    "    for idx, line in enumerate(f):\n",
    "        if idx % 2 == 0:\n",
    "            lines.append(line[:-1])\n",
    "        else:\n",
    "            vulg = np.array(list(map(int, line[:-1])))\n",
    "            line_labels.append(vulg)\n",
    "\n",
    "words = []\n",
    "labels = []\n",
    "for sent, true in zip(lines, line_labels):\n",
    "    for occ in re.finditer(r'\\w+', sent):\n",
    "        left, right = occ.span()\n",
    "        words.append(sent[left:right])\n",
    "        labels.append(1 if true[left:right].mean() >= 0.5 else 0)"
   ]
  },
  {
   "cell_type": "code",
   "execution_count": 18,
   "metadata": {},
   "outputs": [],
   "source": [
    "run_fasttext('test', words)\n",
    "test_data = convert_to_vectors('test', words)"
   ]
  },
  {
   "cell_type": "code",
   "execution_count": 65,
   "metadata": {},
   "outputs": [
    {
     "name": "stdout",
     "output_type": "stream",
     "text": [
      "Char-level F1: 0.3860179091595641\n",
      "Token-level F1: 0.2787610619469027\n"
     ]
    }
   ],
   "source": [
    "predictions_test = (model.predict_proba(test_data) >= 0.99999).astype(np.int)  # model.predict_classes(test_data)\n",
    "\n",
    "line_pred = []\n",
    "occ_idx = 0\n",
    "for idx, sent in enumerate(lines):\n",
    "    cur_pred = np.zeros_like(line_labels[idx])\n",
    "    for occ in re.finditer(r'\\w+', sent):\n",
    "        left, right = occ.span()\n",
    "        if predictions_test[occ_idx] == 1:\n",
    "            cur_pred[left:right] = 1\n",
    "        occ_idx += 1\n",
    "    line_pred.append(cur_pred)\n",
    "\n",
    "print('Char-level F1:', f1_score(np.concatenate(line_labels), np.concatenate(line_pred)))\n",
    "print('Token-level F1:', f1_score(labels, predictions_test))"
   ]
  },
  {
   "cell_type": "code",
   "execution_count": null,
   "metadata": {},
   "outputs": [],
   "source": []
  }
 ],
 "metadata": {
  "kernelspec": {
   "display_name": "Python 3",
   "language": "python",
   "name": "python3"
  },
  "language_info": {
   "codemirror_mode": {
    "name": "ipython",
    "version": 3
   },
   "file_extension": ".py",
   "mimetype": "text/x-python",
   "name": "python",
   "nbconvert_exporter": "python",
   "pygments_lexer": "ipython3",
   "version": "3.6.6"
  }
 },
 "nbformat": 4,
 "nbformat_minor": 2
}
